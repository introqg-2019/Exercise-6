{
 "cells": [
  {
   "cell_type": "markdown",
   "metadata": {
    "deletable": false,
    "editable": false,
    "nbgrader": {
     "cell_type": "markdown",
     "checksum": "824927856d4c367e8baa1ba43374bde9",
     "grade": false,
     "grade_id": "cell-7ec6caed7f807f17",
     "locked": true,
     "schema_version": 3,
     "solution": false
    }
   },
   "source": [
    "# Problem 1: The time dependence of rock advection (*11.5 points*)\n",
    "\n",
    "## Time-dependent temperatures in the Earth\n",
    "\n",
    "In this exercise we will use an analytical solution to the 1-D time-dependent thermal advection-diffusion equation to simulate erosion of rock at the Earth's surface, the upward transport of the underlying rock toward the surface, and the changes in a 1-D geotherm with time. Below, we provide a working solution to the basic equation for calculating temperature *T* as a function of depth *z* and time *t* (*you don't need to convert the equation to Python, don't worry*). The equation was originally published by Carslaw and Jaeger (1959)\n",
    "\n",
    "\\begin{equation}\n",
    "  \\large\n",
    "  T(z,t) = G(z + v_{z} t) + \\frac{G}{2} \\left[ (z - v_{z} t) \\mathrm{e}^{-v_{z} z / \\kappa} \\mathrm{erfc} \\left( \\frac{z - v_{z}t}{2 \\sqrt{\\kappa t}} \\right) - (z + v_{z} t) \\mathrm{erfc} \\left( \\frac{z + v_{z}t}{2 \\sqrt{\\kappa t}} \\right) \\right]\n",
    "\\end{equation}\n",
    "*Equation 1. 1D time-dependent heat advection-diffusion equation.*\n",
    "\n",
    "where $G$ is the initial temperature gradient (increase in temperature with depth), $v_{z}$ is the vertical advection velocity (positive upward), $\\kappa$ is the thermal diffusivity and $\\mathrm{erfc}()$ is the complementary error function, defined as\n",
    "\n",
    "\\begin{equation}\n",
    "  \\large\n",
    "  \\mathrm{erfc}(x) = \\frac{2}{\\sqrt{\\pi}} \\int_{x}^{\\infty} \\mathrm{e}^{-u^{2}} du\n",
    "\\end{equation}\n",
    "*Equation 2. The complementary error function.*\n",
    "\n",
    "With this equation, the temperature increases linearly with depth at the start of the calculation (i.e., $T(z,t=0) = Gz$) and the geotherm will evolve over time as a function of the advection velocity and thermal diffusivity.\n",
    "\n",
    "If you are curious about how the the advection and diffusion equations are combined in Equation 1, you can find a solution to the steady-state version of the 1D heat transfer equation in the [notes on solving the advection-diffusion equation](https://introqg.github.io/site/lessons/L4/solving-advection.html) from [Lesson 4](https://introqg.github.io/site/lessons/L4/overview.html).\n",
    "\n",
    "Let's begin by plotting geotherms to get a sense of how our temperature equation works.\n",
    "\n",
    "**Notice**: Closely follow the instructions! For example, you should be sure to use **exactly** the same variable names mentioned in the instructions because your answers will be automatically graded, and the tests that grade your answers rely on following the same formatting or variable naming as in the instructions.\n",
    "\n",
    "**Your score on this problem will be based on following criteria**:\n",
    "\n",
    "- Modifying the provided Python function to format and add text to the plots\n",
    "- Plotting your results and adding figure captions\n",
    "- Including comments that explain what most lines in the code do\n",
    "- Uploading your notebook to your GitHub repository for this week's exercise"
   ]
  },
  {
   "cell_type": "markdown",
   "metadata": {
    "deletable": false,
    "editable": false,
    "nbgrader": {
     "cell_type": "markdown",
     "checksum": "e5f760790283623883b556992fa2a5e5",
     "grade": false,
     "grade_id": "cell-b1745a7f7d9e0fd8",
     "locked": true,
     "schema_version": 3,
     "solution": false
    }
   },
   "source": [
    "## Part 1: Setting things up (*0 points*)\n",
    "\n",
    "To start we can simply run the Python cells below to load the modules we will need and define a few functions. The first two should look somewhat familiar, other than needing to load the `erfc` function from the SciPy module.\n",
    "\n",
    "- Look over the short descriptions and run the **four** Python cells below."
   ]
  },
  {
   "cell_type": "code",
   "execution_count": null,
   "metadata": {
    "deletable": false,
    "editable": false,
    "nbgrader": {
     "cell_type": "code",
     "checksum": "40a99a5d1b0277d983f7778b3fea3e68",
     "grade": false,
     "grade_id": "cell-578780c100b7c0a1",
     "locked": true,
     "schema_version": 3,
     "solution": false
    }
   },
   "outputs": [],
   "source": [
    "# Configure Matplotlib plotting\n",
    "%matplotlib inline"
   ]
  },
  {
   "cell_type": "code",
   "execution_count": null,
   "metadata": {
    "deletable": false,
    "editable": false,
    "nbgrader": {
     "cell_type": "code",
     "checksum": "858a6cc360166821b613c27681ad566f",
     "grade": false,
     "grade_id": "cell-56208fd0a94c5054",
     "locked": true,
     "schema_version": 3,
     "solution": false
    }
   },
   "outputs": [],
   "source": [
    "# Import modules\n",
    "import numpy as np\n",
    "import pandas as pd\n",
    "from scipy.special import erfc"
   ]
  },
  {
   "cell_type": "markdown",
   "metadata": {
    "deletable": false,
    "editable": false,
    "nbgrader": {
     "cell_type": "markdown",
     "checksum": "357009ba7c754bdd11a9a2e97b00fc65",
     "grade": false,
     "grade_id": "cell-48d41eeec2db40aa",
     "locked": true,
     "schema_version": 3,
     "solution": false
    }
   },
   "source": [
    "Next you can run the cell below to load a function for solving the 1D advection-diffusion equation (Equation 1 above)."
   ]
  },
  {
   "cell_type": "code",
   "execution_count": null,
   "metadata": {
    "deletable": false,
    "editable": false,
    "nbgrader": {
     "cell_type": "code",
     "checksum": "0d394c321213d2dea8cdcde384b18244",
     "grade": false,
     "grade_id": "cell-706fdfc1cf9eefb3",
     "locked": true,
     "schema_version": 3,
     "solution": false
    }
   },
   "outputs": [],
   "source": [
    "def temp_1D(z, time, g_initial, vz, kappa):\n",
    "    \"\"\"Calculate solution to 1D transient advection-diffusion heat transfer equation.\n",
    "    \n",
    "    Keyword arguments:\n",
    "    z -- array of depths from surface (units: km)\n",
    "    time -- array of time since model start (units: m)\n",
    "    g_initial -- initial temperature gradient (units: deg. C / km)\n",
    "    vz -- vertical advection velocity (units: km / Ma)\n",
    "    kappa -- thermal diffusivity (units: km^2 / Ma)\n",
    "    \"\"\"\n",
    "    # Calculate T separately for case where t = 0 to avoid divide-by-zero warnings\n",
    "    if time == 0:\n",
    "        temperature = g_initial * z\n",
    "    else:\n",
    "        temperature = g_initial * (z + vz * time) + (g_initial / 2.0) * ((z - vz * time) *\\\n",
    "                      np.exp(-(vz * z) / kappa) * erfc((z - vz * time) / (2.0 * np.sqrt(kappa *time))) -\\\n",
    "                      (z + vz * time) * erfc((z + vz * time) / (2.0 * np.sqrt(kappa * time))))\n",
    "    return temperature"
   ]
  },
  {
   "cell_type": "markdown",
   "metadata": {
    "deletable": false,
    "editable": false,
    "nbgrader": {
     "cell_type": "markdown",
     "checksum": "5529f3573ab2d8c326c27c2d6932eb03",
     "grade": false,
     "grade_id": "cell-05d0a2548aecd926",
     "locked": true,
     "schema_version": 3,
     "solution": false
    }
   },
   "source": [
    "Finally, the cell below defines a function that calls the `temp_1D` function and define some thermal model parameters (among other things). Please read over this function and then run the Python cell below."
   ]
  },
  {
   "cell_type": "code",
   "execution_count": null,
   "metadata": {},
   "outputs": [],
   "source": [
    "def age_predict(temp_gradient=10.0, time_total=50.0, vz=0.5,\n",
    "                plot_temp_z_hist=False, n_temp_save=1,\n",
    "                calc_ahe=False, calc_zhe=False, calc_mar=False):\n",
    "    \"\"\"Calculate transient 1D thermal solution and predict thermochronometer ages.\n",
    "    \n",
    "    Keyword arguments:\n",
    "    temp_gradient -- initial thermal gradient (units: deg. C / km; default: 10.0)\n",
    "    time_total -- total thermal model simulation time (units: Ma; default: 50.0)\n",
    "    vz -- vertical advection velocity (units: km/Ma; default: 0.5)\n",
    "    plot_temp_z_hist -- save the temperature-depth history of the tracked particle (default: False)\n",
    "    n_temp_save -- number of temperature profiles to dave (default: 1)\n",
    "    calc_ahe -- calculate apatite (U-Th)/He age (default: False)\n",
    "    calc_zhe -- calculate zircon (U-Th)/He age (default: False)\n",
    "    calc_mar -- calculate muscovite 40Ar/39Ar age (default: False)\n",
    "    \"\"\"\n",
    "\n",
    "    # THERMAL MODEL PARAMETERS\n",
    "    z_max = 50.0            # Thermal model thickness [km]\n",
    "    kappa = 32.0            # Thermal diffusivity [km2 / Ma]\n",
    "    npz = 101               # Number of depth points for temperature calculation\n",
    "    npt = 401               # Number of times for temperature calculation\n",
    "    high_temp = 1000.0      # Temperature to assign if tracked particle depth exceeds zmax\n",
    "    \n",
    "    # CLOSURE TEMPERATURE PARAMETERS\n",
    "    # Apatite (U-Th)/He\n",
    "    size_ahe = 100.0        # Apatite grain size [um]\n",
    "    ea_ahe = 138.0e3        # Activation energy [J/mol]\n",
    "    a_ahe = 25.0            # Geometry factor [25 for sphere]\n",
    "    d0_ahe = 5.0e-3         # Diffusivity at infinite temperature [m2/s]\n",
    "    tau_ahe = 1.0           # Initial guess for characteristic time\n",
    "\n",
    "    # Zircon (U-Th)/He\n",
    "    size_zhe = 100.0        # Zircon grain size [um]\n",
    "    ea_zhe = 168.0e3        # Activation energy [J/mol]\n",
    "    a_zhe = 25.0            # Geometry factor [25 for sphere]\n",
    "    d0_zhe = 4.6e-5         # Diffusivity at infinite temperature [m2/s]\n",
    "    tau_zhe = 1.0           # Initial guess for characteristic time\n",
    "\n",
    "    # Muscovite Ar/Ar\n",
    "    size_mar = 500.0        # Muscovite grain size [um]\n",
    "    ea_mar = 183.0e3        # Activation energy [J/mol]\n",
    "    a_mar = 8.7             # Geometry factor [8.7 for planar sheet]\n",
    "    d0_mar = 3.3e-6         # Diffusivity at infinite temperature [m2/s]\n",
    "    tau_mar = 1.0           # Initial guess for characteristic time\n",
    "\n",
    "    # OTHER CONSTANTS\n",
    "    r = 8.314               # Universal gas constant\n",
    "\n",
    "    # Set initial thermochronometer ages\n",
    "    age_ahe = time_total\n",
    "    age_zhe = time_total\n",
    "    age_mar = time_total\n",
    "\n",
    "    # Convert units\n",
    "    size_ahe = size_ahe / 1.0e6 / 1.0e3                                     # um -> km\n",
    "    size_zhe = size_zhe / 1.0e6 / 1.0e3                                     # um -> km\n",
    "    size_mar = size_mar / 1.0e6 / 1.0e3                                     # um -> km\n",
    "    d0_ahe = d0_ahe * (1 / 1000.0**2.0) * (1.0e6 * 365.25 * 24.0 * 3600.0)  # m2/s -> km2/Ma\n",
    "    d0_zhe = d0_zhe * (1 / 1000.0**2.0) * (1.0e6 * 365.25 * 24.0 * 3600.0)  # m2/s -> km2/Ma\n",
    "    d0_mar = d0_mar * (1 / 1000.0**2.0) * (1.0e6 * 365.25 * 24.0 * 3600.0)  # m2/s -> km2/Ma\n",
    "\n",
    "    # Calculate diffusion parameter D0/a2 for each mineral\n",
    "    d0a2_ahe = d0_ahe / size_ahe**2.0    # Apatite\n",
    "    d0a2_zhe = d0_zhe / size_zhe**2.0    # Zircon\n",
    "    d0a2_mar = d0_mar / size_mar**2.0    # Muscovite\n",
    "\n",
    "    # Create thermal model arrays\n",
    "    z = np.linspace(0.0, z_max, npz)                    # Define depth range array\n",
    "    time = np.linspace(0.0, time_total, npt)            # Define time range array\n",
    "    time_ma = np.linspace(time_total, 0.0, npt)         # Define time array in Ma (time before present)\n",
    "    z_hist = np.linspace(time_total*vz, 0.0, npt)       # Define z particle position history\n",
    "    temp_hist = np.zeros(npt)                           # Define initial temperature history array\n",
    "    temp = np.zeros(npz)                                # Define initial temperature array\n",
    "\n",
    "    # Define increment for saving temperatures\n",
    "    iout = 0\n",
    "\n",
    "    # Create temperatures DataFrame\n",
    "    temp_df = pd.DataFrame(data={'Depth (km)':-z})\n",
    "\n",
    "    # Loop over all times and calculate temperature\n",
    "    for i in range(npt):\n",
    "        # Calculate temperature at time[i]\n",
    "        temp = temp_1D(z, time[i], temp_gradient, vz, kappa)\n",
    "        \n",
    "        # Set the temperature history temperature to high_temp if the tracked particle\n",
    "        # depth is below z_max (where temperature would be undefined)\n",
    "        if z_hist[i] > max(z):\n",
    "            temp_hist[i] = high_temp\n",
    "        # Otherwise, store the current temperature at the depth of the tracked particle\n",
    "        else:\n",
    "            temp_hist[i] = temp_1D(z_hist[i], time[i], temp_gradient, vz, kappa)\n",
    "\n",
    "        # If the current iteration is one of the save increments, save the geotherm\n",
    "        if i == iout:\n",
    "            string = str(time_ma[i])+\" Ma\"\n",
    "            temp_df[string] = temp\n",
    "            iout = iout + int(float(len(time)-1)/float(n_temp_save))\n",
    "\n",
    "    # Set the initial closure temperatures for the previous step to one\n",
    "    tc_ahe_prev = 1.0\n",
    "    tc_zhe_prev = 1.0\n",
    "    tc_mar_prev = 1.0\n",
    "\n",
    "    # Set the previous temperature to the max value in the current temperature array\n",
    "    temp_hist_prev = max(temp)\n",
    "\n",
    "    # Loop over all positions in the temperature history array\n",
    "    for i in range(len(temp_hist)):\n",
    "        # Calculate the cooling rate for the first temperature value\n",
    "        if i == 0:\n",
    "            dtdt = (temp_hist[i] - temp_hist[i+1]) / (time_ma[i] - time_ma[i+1])\n",
    "        # Calculate the cooling rate for the last temperature value\n",
    "        elif i == len(temp_hist)-1:\n",
    "            dtdt = (temp_hist[i-1] - temp_hist[i]) / (time_ma[i-1] - time_ma[i])\n",
    "        # Calculate the cooling rate for the the intermediate temperature values\n",
    "        else:\n",
    "            dtdt = (temp_hist[i-1] - temp_hist[i+1]) / (time_ma[i-1] - time_ma[i+1])\n",
    "\n",
    "        # Ensure the cooling rate is at least 1 deg. C per 10 Ma\n",
    "        dtdt = max(dtdt, 0.1 / (1.0e6 * 365.25 * 24.0 * 3600.0))\n",
    "\n",
    "        # Calculate various closure temperatures, if requested\n",
    "        if calc_ahe:\n",
    "            age_ahe, tc_ahe, tc_ahe_prev = dodson(tau_ahe, temp_hist[i], temp_hist_prev, time_ma[i],\n",
    "                                                  time_ma[i-1], age_ahe, tc_ahe_prev, ea_ahe, dtdt,\n",
    "                                                  a_ahe, d0a2_ahe, r)\n",
    "        if calc_zhe:\n",
    "            age_zhe, tc_zhe, tc_zhe_prev = dodson(tau_zhe, temp_hist[i], temp_hist_prev, time_ma[i],\n",
    "                                                  time_ma[i-1], age_zhe, tc_zhe_prev, ea_zhe, dtdt,\n",
    "                                                  a_zhe, d0a2_zhe, r)\n",
    "        if calc_mar:\n",
    "            age_mar, tc_mar, tc_mar_prev = dodson(tau_mar, temp_hist[i], temp_hist_prev, time_ma[i],\n",
    "                                                  time_ma[i-1], age_mar, tc_mar_prev, ea_mar, dtdt,\n",
    "                                                  a_mar, d0a2_mar, r)\n",
    "\n",
    "        # Store previous temperature in thermal history\n",
    "        temp_hist_prev = temp_hist[i]\n",
    "\n",
    "    # Save particle depth-temperature history if requested\n",
    "    if plot_temp_z_hist:\n",
    "        ex_hist_df = pd.DataFrame(index=temp_hist, data={'Exhumation history':-z_hist})\n",
    "    else:\n",
    "        ex_hist_df = None\n",
    "\n",
    "    # Plot results\n",
    "    # Make list of column titles, excluding depth\n",
    "    cols = temp_df.columns.values[1:]\n",
    "    # Plot starting geotherm\n",
    "    ax = temp_df.plot(x=cols[0], y='Depth (km)', figsize=(10,7), label=cols[0])\n",
    "    # Loop through and plot requested geotherms\n",
    "    for column in cols[1:]:\n",
    "        temp_df.plot(x=column, y='Depth (km)', ax=ax, label=column)\n",
    "    # Plot exhumation history, if requested\n",
    "    if plot_temp_z_hist:\n",
    "        # Delete \"pass\" below and add your commands to plot the exhumation history\n",
    "        pass\n",
    "\n",
    "    # Write thermochronometer age(s) to screen, if requested\n",
    "    # Set to ages to None if age prediction is not requested\n",
    "    if calc_ahe:\n",
    "        print(\"Apatite (U-Th)/He age: {0:.2f} Ma\".format(age_ahe))\n",
    "    else:\n",
    "        age_ahe = None\n",
    "\n",
    "    if calc_zhe:\n",
    "        print(\"Zircon (U-Th)/He age: {0:.2f} Ma\".format(age_zhe))\n",
    "    else:\n",
    "        age_zhe = None\n",
    "\n",
    "    if calc_mar:\n",
    "        print(\"Muscovite Ar/Ar age: {0:.2f} Ma\".format(age_mar))\n",
    "    else:\n",
    "        age_mar = None\n",
    "    \n",
    "    return temp_df, ex_hist_df, ax, age_ahe, age_zhe, age_mar"
   ]
  },
  {
   "cell_type": "markdown",
   "metadata": {
    "deletable": false,
    "editable": false,
    "nbgrader": {
     "cell_type": "markdown",
     "checksum": "0c4bb36b6608c7c4cc3913d1a51fa0db",
     "grade": false,
     "grade_id": "cell-1fa368557b2c1125",
     "locked": true,
     "schema_version": 3,
     "solution": false
    }
   },
   "source": [
    "## Part 2: Creating a first plot (*3 points*)\n",
    "\n",
    "You should be able to call the `age_predict` function defined above with no argument to produce a plot like that shown below.\n",
    "\n",
    "![Time-dependent heat transfer with advection](img/1D_transient_plot1.png)<br/>\n",
    "*Figure 1. 1D transient thermal solution including advection.*\n",
    "\n",
    "- Edit the Python cell containing the `age_predict` function to add axis labels and a title to the plot in produces.\n",
    "- Determine the advection velocity and edit the cell containing the `age_predict` function to also add a text label showing the advection velocity on your the plot using the `ax.text()` function.\n",
    "- Re-run the Python cell containing the `age_predict` function to update the version in memory.\n",
    "- Call the age_predict function in the Python cell below with no arguments to produce your first plot.\n",
    "    - **Note**: Assign the output of the `age_predict` function to the variable `age_output`. As you can see, the function returns a number of values.\n",
    "- Add a figure caption for the plot in the cell beneath it describing it as if it were in a scientific journal article."
   ]
  },
  {
   "cell_type": "code",
   "execution_count": null,
   "metadata": {
    "deletable": false,
    "nbgrader": {
     "cell_type": "code",
     "checksum": "1e70da7f37c13ccc9cc06078239fb7cf",
     "grade": false,
     "grade_id": "problem_1_ag_p2_plot1",
     "locked": false,
     "schema_version": 3,
     "solution": true,
     "task": false
    }
   },
   "outputs": [],
   "source": [
    "# Call the age_predict function below\n",
    "age_output = None\n",
    "\n",
    "# YOUR CODE HERE\n",
    "raise NotImplementedError()"
   ]
  },
  {
   "cell_type": "markdown",
   "metadata": {
    "deletable": false,
    "nbgrader": {
     "cell_type": "markdown",
     "checksum": "c7a09cee36793b0b471ad092cf37aaf3",
     "grade": true,
     "grade_id": "problem_1_mg_p2_plot1_caption",
     "locked": false,
     "points": 2,
     "schema_version": 3,
     "solution": true
    }
   },
   "source": [
    "YOUR ANSWER HERE"
   ]
  },
  {
   "cell_type": "code",
   "execution_count": null,
   "metadata": {
    "deletable": false,
    "editable": false,
    "nbgrader": {
     "cell_type": "code",
     "checksum": "d25323e2534392f70db424d45e8acf35",
     "grade": true,
     "grade_id": "problem_1_ag_p2_plot1_test1",
     "locked": true,
     "points": 0.5,
     "schema_version": 3,
     "solution": false,
     "task": false
    }
   },
   "outputs": [],
   "source": [
    "# This test should work\n",
    "print('The last temperature for 50.0 Ma should be 500.00. My last value is {0:.2f}.'.format(age_output[0].iloc[100,1]))\n"
   ]
  },
  {
   "cell_type": "code",
   "execution_count": null,
   "metadata": {
    "deletable": false,
    "editable": false,
    "nbgrader": {
     "cell_type": "code",
     "checksum": "78180587c7b63daf6d3157a269c2169b",
     "grade": true,
     "grade_id": "problem_1_ag_p2_plot1_test2",
     "locked": true,
     "points": 0.5,
     "schema_version": 3,
     "solution": false,
     "task": false
    }
   },
   "outputs": [],
   "source": [
    "# This test should also work\n",
    "print('The temperature history should be None. My temperature history is {0}.'.format(age_output[1]))"
   ]
  },
  {
   "cell_type": "markdown",
   "metadata": {
    "deletable": false,
    "editable": false,
    "nbgrader": {
     "cell_type": "markdown",
     "checksum": "b54d221bfe040d9281e3f449c4989f07",
     "grade": false,
     "grade_id": "cell-643f5d1f42fcd469",
     "locked": true,
     "schema_version": 3,
     "solution": false
    }
   },
   "source": [
    "## Part 3: Changing the advection velocity (*2 points*)\n",
    "\n",
    "Now let's see how the thermal solution changes when you change the advection velocity.\n",
    "\n",
    "- Call the `age_predict` function in the cell below with an advection velocity of 1.0 km/Ma. Look at the definition of `age_predict` to see how to use a different advection velocity.\n",
    "    - Again, remember to assign the output to the variable `age_output`.\n",
    "- Add a figure caption for the plot in the cell beneath it describing it as if it were in a scientific journal article."
   ]
  },
  {
   "cell_type": "code",
   "execution_count": null,
   "metadata": {
    "deletable": false,
    "nbgrader": {
     "cell_type": "code",
     "checksum": "3973b3c3c662acac95a0a54c99548347",
     "grade": false,
     "grade_id": "problem_1_ag_p3_plot2",
     "locked": false,
     "schema_version": 3,
     "solution": true,
     "task": false
    }
   },
   "outputs": [],
   "source": [
    "# Call the age_predict function below\n",
    "age_output = None\n",
    "\n",
    "# YOUR CODE HERE\n",
    "raise NotImplementedError()"
   ]
  },
  {
   "cell_type": "markdown",
   "metadata": {
    "deletable": false,
    "nbgrader": {
     "cell_type": "markdown",
     "checksum": "06b983aa9da3917e0ac7196b065ffbca",
     "grade": true,
     "grade_id": "problem_1_mg_p3_plot2_caption",
     "locked": false,
     "points": 0.5,
     "schema_version": 3,
     "solution": true
    }
   },
   "source": [
    "YOUR ANSWER HERE"
   ]
  },
  {
   "cell_type": "code",
   "execution_count": null,
   "metadata": {
    "deletable": false,
    "editable": false,
    "nbgrader": {
     "cell_type": "code",
     "checksum": "678fe35bb8cc257e12747b6561984335",
     "grade": true,
     "grade_id": "problem_1_ag_p3_plot2_test1",
     "locked": true,
     "points": 0.5,
     "schema_version": 3,
     "solution": false,
     "task": false
    }
   },
   "outputs": [],
   "source": [
    "# This test should work\n",
    "print('The third temperature for 0.0 Ma should be 33.17. My last value is {0:.2f}.'.format(age_output[0].iloc[2,2]))\n"
   ]
  },
  {
   "cell_type": "markdown",
   "metadata": {
    "deletable": false,
    "editable": false,
    "nbgrader": {
     "cell_type": "markdown",
     "checksum": "a25ca99dd55e950a843ec4f71a9c2e7f",
     "grade": false,
     "grade_id": "cell-e5f9335945d4a9f6",
     "locked": true,
     "schema_version": 3,
     "solution": false,
     "task": false
    }
   },
   "source": [
    "## Part 3 (continued)\n",
    "\n",
    "- In the Python cell below, call the `age_predict` function again with an advection velocity of 0.1 km/Ma.\n",
    "- Again, add a figure caption for the plot in the cell beneath it describing it as if it were in a scientific journal article."
   ]
  },
  {
   "cell_type": "code",
   "execution_count": null,
   "metadata": {
    "deletable": false,
    "nbgrader": {
     "cell_type": "code",
     "checksum": "4572da293dbe93b711518d75370f8a87",
     "grade": false,
     "grade_id": "problem_1_ag_p3_plot3",
     "locked": false,
     "schema_version": 3,
     "solution": true,
     "task": false
    }
   },
   "outputs": [],
   "source": [
    "# Call the age_predict function below\n",
    "age_output = None\n",
    "\n",
    "# YOUR CODE HERE\n",
    "raise NotImplementedError()"
   ]
  },
  {
   "cell_type": "markdown",
   "metadata": {
    "deletable": false,
    "nbgrader": {
     "cell_type": "markdown",
     "checksum": "e5a10ab6cbd507c43da92f39553bc7a4",
     "grade": true,
     "grade_id": "problem_1_mg_p3_plot3_caption",
     "locked": false,
     "points": 0.5,
     "schema_version": 3,
     "solution": true
    }
   },
   "source": [
    "YOUR ANSWER HERE"
   ]
  },
  {
   "cell_type": "code",
   "execution_count": null,
   "metadata": {
    "deletable": false,
    "editable": false,
    "nbgrader": {
     "cell_type": "code",
     "checksum": "7bf7bc35173b7ef1c214917f878f7091",
     "grade": true,
     "grade_id": "problem_1_ag_p3_plot3_test1",
     "locked": true,
     "points": 0.5,
     "schema_version": 3,
     "solution": false,
     "task": false
    }
   },
   "outputs": [],
   "source": [
    "# This test should work\n",
    "print('The second temperature for 0.0 Ma should be 5.74. My last value is {0:.2f}.'.format(age_output[0].iloc[1,2]))\n"
   ]
  },
  {
   "cell_type": "markdown",
   "metadata": {
    "deletable": false,
    "editable": false,
    "nbgrader": {
     "cell_type": "markdown",
     "checksum": "0958236c8c17a440d4edabdd57cfa269",
     "grade": false,
     "grade_id": "cell-9f797b503f721546",
     "locked": true,
     "schema_version": 3,
     "solution": false
    }
   },
   "source": [
    "## Part 4: Changing the simulation time (*1 point*)\n",
    "\n",
    "Next let's see how the thermal solution changes when you change the simulation time.\n",
    "\n",
    "- Call the `age_predict` function in the cell below with a simulation time of 100 Ma. Again, look at the definition of `age_predict` to see how to use a different simulation time.\n",
    "    - Again, remember to assign the output to the variable `age_output`.\n",
    "- Add a figure caption for the plot in the cell beneath it describing it as if it were in a scientific journal article."
   ]
  },
  {
   "cell_type": "code",
   "execution_count": null,
   "metadata": {
    "deletable": false,
    "nbgrader": {
     "cell_type": "code",
     "checksum": "7721ab98009b8bae7f9a6488f16f7d10",
     "grade": false,
     "grade_id": "problem_1_ag_p4_plot4",
     "locked": false,
     "schema_version": 3,
     "solution": true,
     "task": false
    }
   },
   "outputs": [],
   "source": [
    "# Call the age_predict function below\n",
    "age_output = None\n",
    "\n",
    "# YOUR CODE HERE\n",
    "raise NotImplementedError()"
   ]
  },
  {
   "cell_type": "markdown",
   "metadata": {
    "deletable": false,
    "nbgrader": {
     "cell_type": "markdown",
     "checksum": "896d09e3282b9f49b79e4fd1e20a1a02",
     "grade": true,
     "grade_id": "problem_1_mg_p4_plot4_caption",
     "locked": false,
     "points": 0.5,
     "schema_version": 3,
     "solution": true
    }
   },
   "source": [
    "YOUR ANSWER HERE"
   ]
  },
  {
   "cell_type": "code",
   "execution_count": null,
   "metadata": {
    "deletable": false,
    "editable": false,
    "nbgrader": {
     "cell_type": "code",
     "checksum": "a6cf712046a5adef7290cc3897b1d544",
     "grade": true,
     "grade_id": "problem_1_ag_p4_plot4_test1",
     "locked": true,
     "points": 0.5,
     "schema_version": 3,
     "solution": false,
     "task": false
    }
   },
   "outputs": [],
   "source": [
    "# This test should work\n",
    "print('The tenth temperature for 0.0 Ma should be 106.58. My last value is {0:.2f}.'.format(age_output[0].iloc[9,2]))\n"
   ]
  },
  {
   "cell_type": "markdown",
   "metadata": {
    "deletable": false,
    "editable": false,
    "nbgrader": {
     "cell_type": "markdown",
     "checksum": "21a3fc992815abd9a5d8131249c6fbad",
     "grade": false,
     "grade_id": "cell-833547bc67ce5260",
     "locked": true,
     "schema_version": 3,
     "solution": false,
     "task": false
    }
   },
   "source": [
    "## Part 4 (continued)\n",
    "\n",
    "- In the Python cell below, you can explore what happens for even longer simulation times (1000 Ma, 5000 Ma, etc.). There is no need to add a caption for this plot, but there will be a question about it at the end of this problem."
   ]
  },
  {
   "cell_type": "code",
   "execution_count": null,
   "metadata": {
    "deletable": false,
    "nbgrader": {
     "cell_type": "code",
     "checksum": "cab4c090ef3ac824e29818458ec0f7c1",
     "grade": true,
     "grade_id": "problem_1_ag_p4_long_simulations",
     "locked": false,
     "points": 0,
     "schema_version": 3,
     "solution": true
    }
   },
   "outputs": [],
   "source": [
    "# YOUR CODE HERE\n",
    "raise NotImplementedError()"
   ]
  },
  {
   "cell_type": "markdown",
   "metadata": {
    "deletable": false,
    "editable": false,
    "nbgrader": {
     "cell_type": "markdown",
     "checksum": "e1068701914957f850e5870f10c41d96",
     "grade": false,
     "grade_id": "cell-8f6a3f077be2cd11",
     "locked": true,
     "schema_version": 3,
     "solution": false
    }
   },
   "source": [
    "## Part 5: The initial thermal gradient (*2 points*)\n",
    "\n",
    "Now let's see how the thermal solution changes when you change the thermal gradient at the start of the calculation.\n",
    "\n",
    "- Call the `age_predict` function in the cell below with an initial geothermal gradient of 20°C/km. As before, look at the definition of `age_predict` to see how to use a initial geothermal gradient.\n",
    "    - Again, remember to assign the output to the variable `age_output`.\n",
    "- Add a figure caption for the plot in the cell beneath it describing it as if it were in a scientific journal article."
   ]
  },
  {
   "cell_type": "code",
   "execution_count": null,
   "metadata": {
    "deletable": false,
    "nbgrader": {
     "cell_type": "code",
     "checksum": "94ff7c11f4738ed4927c4e0b0f7ea0bf",
     "grade": false,
     "grade_id": "problem_1_ag_p5_plot5",
     "locked": false,
     "schema_version": 3,
     "solution": true,
     "task": false
    }
   },
   "outputs": [],
   "source": [
    "# Call the age_predict function below\n",
    "age_output = None\n",
    "\n",
    "# YOUR CODE HERE\n",
    "raise NotImplementedError()"
   ]
  },
  {
   "cell_type": "markdown",
   "metadata": {
    "deletable": false,
    "nbgrader": {
     "cell_type": "markdown",
     "checksum": "86a7c46ed831bfb4b5659997490e6176",
     "grade": true,
     "grade_id": "problem_1_mg_p5_plot5_caption",
     "locked": false,
     "points": 0.5,
     "schema_version": 3,
     "solution": true
    }
   },
   "source": [
    "YOUR ANSWER HERE"
   ]
  },
  {
   "cell_type": "code",
   "execution_count": null,
   "metadata": {
    "deletable": false,
    "editable": false,
    "nbgrader": {
     "cell_type": "code",
     "checksum": "869a3e62a536ecc45f844f0bee853205",
     "grade": true,
     "grade_id": "problem_1_ag_p5_plot5_test1",
     "locked": true,
     "points": 0.5,
     "schema_version": 3,
     "solution": false,
     "task": false
    }
   },
   "outputs": [],
   "source": [
    "# This test should work\n",
    "print('The last temperature for 50.0 Ma should be 1000.00. My last value is {0:.2f}.'.format(age_output[0].iloc[100,1]))\n"
   ]
  },
  {
   "cell_type": "markdown",
   "metadata": {
    "deletable": false,
    "editable": false,
    "nbgrader": {
     "cell_type": "markdown",
     "checksum": "6c3bb0814069cb69182a6af27e682c6b",
     "grade": false,
     "grade_id": "cell-21e7b3a420ee8c41",
     "locked": true,
     "schema_version": 3,
     "solution": false,
     "task": false
    }
   },
   "source": [
    "## Part 5 (continued)\n",
    "\n",
    "- In the Python cell below, call the `age_predict` function with an initial geothermal gradient of 5°C/km.\n",
    "- Again, add a figure caption for the plot in the cell beneath it describing it as if it were in a scientific journal article."
   ]
  },
  {
   "cell_type": "code",
   "execution_count": null,
   "metadata": {
    "deletable": false,
    "nbgrader": {
     "cell_type": "code",
     "checksum": "ec544edfad239be40c48671bf12958ce",
     "grade": false,
     "grade_id": "problem_1_ag_p5_plot6",
     "locked": false,
     "schema_version": 3,
     "solution": true,
     "task": false
    }
   },
   "outputs": [],
   "source": [
    "# Call the age_predict function below\n",
    "age_output = None\n",
    "\n",
    "# YOUR CODE HERE\n",
    "raise NotImplementedError()"
   ]
  },
  {
   "cell_type": "markdown",
   "metadata": {
    "deletable": false,
    "nbgrader": {
     "cell_type": "markdown",
     "checksum": "b7db6591694332255b12259c775e191d",
     "grade": true,
     "grade_id": "problem_1_mg_p5_plot6_caption",
     "locked": false,
     "points": 0.5,
     "schema_version": 3,
     "solution": true
    }
   },
   "source": [
    "YOUR ANSWER HERE"
   ]
  },
  {
   "cell_type": "code",
   "execution_count": null,
   "metadata": {
    "deletable": false,
    "editable": false,
    "nbgrader": {
     "cell_type": "code",
     "checksum": "ac17429c11bbeabdb79eb11f33d0834b",
     "grade": true,
     "grade_id": "problem_1_ag_p5_plot6_test1",
     "locked": true,
     "points": 0.5,
     "schema_version": 3,
     "solution": false,
     "task": false
    }
   },
   "outputs": [],
   "source": [
    "# This test should work\n",
    "print('The last temperature for 50.0 Ma should be 250.00. My last value is {0:.2f}.'.format(age_output[0].iloc[100,1]))\n"
   ]
  },
  {
   "cell_type": "markdown",
   "metadata": {
    "deletable": false,
    "editable": false,
    "nbgrader": {
     "cell_type": "markdown",
     "checksum": "c97e847d7f9c4389ce2fb0c685c2ed46",
     "grade": false,
     "grade_id": "cell-c982b9049db1c730",
     "locked": true,
     "schema_version": 3,
     "solution": false
    }
   },
   "source": [
    "## Part 6: Additional temperature calculations (*1 point*)\n",
    "\n",
    "Finally, let's add a few more calculated geotherms to the plot.\n",
    "\n",
    "- Call the `age_predict` function with the number of temperature calculations to plot increased from 1 to 5.\n",
    "    - Again, remember to assign the output to the variable `age_output`.\n",
    "- Add a figure caption for the plot in the cell beneath it describing it as if it were in a scientific journal article."
   ]
  },
  {
   "cell_type": "code",
   "execution_count": null,
   "metadata": {
    "deletable": false,
    "nbgrader": {
     "cell_type": "code",
     "checksum": "22c6cda1e6fa946bdd39c56d9d82b6b2",
     "grade": false,
     "grade_id": "problem_1_ag_p6_plot7",
     "locked": false,
     "schema_version": 3,
     "solution": true,
     "task": false
    }
   },
   "outputs": [],
   "source": [
    "# Call the age_predict function below\n",
    "age_output = None\n",
    "\n",
    "# YOUR CODE HERE\n",
    "raise NotImplementedError()"
   ]
  },
  {
   "cell_type": "markdown",
   "metadata": {
    "deletable": false,
    "nbgrader": {
     "cell_type": "markdown",
     "checksum": "51ade20203fe80dde1c653a8e8709ee7",
     "grade": true,
     "grade_id": "problem_1_mg_p6_plot7_caption",
     "locked": false,
     "points": 0.5,
     "schema_version": 3,
     "solution": true
    }
   },
   "source": [
    "YOUR ANSWER HERE"
   ]
  },
  {
   "cell_type": "code",
   "execution_count": null,
   "metadata": {
    "deletable": false,
    "editable": false,
    "nbgrader": {
     "cell_type": "code",
     "checksum": "3e07a0b7cb7dcdf5813c30927fba88b4",
     "grade": true,
     "grade_id": "cell-984acc22857c7cda",
     "locked": true,
     "points": 0.5,
     "schema_version": 3,
     "solution": false,
     "task": false
    }
   },
   "outputs": [],
   "source": [
    "# This test should work\n",
    "print('The last temperature for 30.0 Ma should be 596.07. My last value is {0:.2f}.'.format(age_output[0].iloc[100,3]))\n"
   ]
  },
  {
   "cell_type": "markdown",
   "metadata": {
    "deletable": false,
    "editable": false,
    "nbgrader": {
     "cell_type": "markdown",
     "checksum": "031a5483e86b0fad9e87d2dcf0ba6673",
     "grade": false,
     "grade_id": "cell-597043d9dc5fd103",
     "locked": true,
     "schema_version": 3,
     "solution": false
    }
   },
   "source": [
    "## Part 7: Questions for this part (*2.5 points*)\n",
    "\n",
    "1. How does the thermal solution change when you change the advection velocity?\n",
    "2. What happens to temperatures in the model as the simulation time increases?\n",
    "3. What do you observe for the temperatures in the model when you change the simulation time? Are there any potential problems with long simulations? Does the model approach a thermal steady state?\n",
    "4. How does the initial temperature gradient affect the temperatures in the model? Is there any clear relationship between the initial temperature gradient and the maximum temperature in the model at *t* = 0 Ma?\n",
    "5. In your opinion, is it helpful to see the temperature calculations at different times?"
   ]
  },
  {
   "cell_type": "markdown",
   "metadata": {
    "deletable": false,
    "nbgrader": {
     "cell_type": "markdown",
     "checksum": "bb9f251c518dfab5b28557884151ccde",
     "grade": true,
     "grade_id": "problem_1_mg_p7_questions",
     "locked": false,
     "points": 2.5,
     "schema_version": 3,
     "solution": true
    }
   },
   "source": [
    "YOUR ANSWER HERE"
   ]
  },
  {
   "cell_type": "markdown",
   "metadata": {
    "deletable": false,
    "editable": false,
    "nbgrader": {
     "cell_type": "markdown",
     "checksum": "0979ad60130e5ac43aa9fdcf420dd081",
     "grade": false,
     "grade_id": "cell-0bde83c057532cca",
     "locked": true,
     "schema_version": 3,
     "solution": false
    }
   },
   "source": [
    "# Problem 2 - Cooling ages and exhumation rates (*8.5 points*)\n",
    "\n",
    "One of the main interests for geoscientists using thermochronology is to determine the average exhumation rate of rocks in a study area based on the ages of thermochronometer data at the surface.\n",
    "\n",
    "## Predicting thermochronometer ages\n",
    "\n",
    "Thermochronometers record the time since a rock or mineral was at a certain temperature (the closure temperature) in the Earth.\n",
    "Above, we have calculated temperature solutions assuming 1-D vertical advection of the crust.\n",
    "Here, we will track a parcel of rock through the temperature field as it is advected toward the surface and use the recorded temperature history to predict thermochronometer ages.\n",
    "The key to understanding what is done here is to understand that we will be simulating the position of a parcel of rock at depth in the earth, and at each time step the position of the rock parcel will be moved upward according to the length of the time step multiplied by the advection velocity.\n",
    "In mathematical terms, this relationship is\n",
    "\n",
    "\\begin{equation}\n",
    "  \\large\n",
    "  z(t) = z(t-1) - v_{z} dt\n",
    "\\end{equation}\n",
    "*Equation 3. Equation for calculating rock particle depth as a function of time.*\n",
    "\n",
    "Thus, we will track a parcel of rock from some depth in the model at the start of the temperature calculation to its final location at the surface when the simulation is complete at 0 Ma.\n",
    "At each depth, the temperature of the parcel of rock will be stored, which will allow the cooling in the temperature history of the rock parcel to be used to predict different thermochronometer ages.\n",
    "We will consider the apatite (U-Th)/He, zircon (U-Th)/He, and muscovite <sup>40</sup>Ar/<sup>39</sup>Ar thermochronometers that were presented briefly in lecture.\n",
    "\n",
    "Thermochronometer closure temperatures will be predicted using Dodson's method, which was also discussed briefly in lecture.\n",
    "According to Dodson's method, the closure temperature *T*<sub>c</sub> of a thermochronometer is\n",
    "\n",
    "\\begin{equation}\n",
    "  \\large\n",
    "  T_{\\mathrm{c}} = \\frac{E_{\\mathrm{a}}}{R \\ln \\left( A \\tau D_{0} / a^{2} \\right)}\n",
    "\\end{equation}\n",
    "*Equation 4. The effective closure temperature according to Dodson's method.*\n",
    "\n",
    "where $E_{\\mathrm{a}}$ is the activation energy, $R$ is the universal gas constant, $A$ is a geometric factor ($A = 25$ for a sphere, $A = 8.7$ for a planar sheet), $\\tau$ is time for the diffusivity to decrease by a factor of 1/e, $D_{0}$ is the diffusivity at infinite temperature and $a$ is the diffusion domain (we'll assume this is the size of the mineral).\n",
    "The value of $\\tau$ can be calculated as a function of the cooling rate $dT/dt$\n",
    "\n",
    "\\begin{equation}\n",
    "  \\large\n",
    "  \\tau = -\\frac{R T^{2}}{E_{\\mathrm{a}} dT/dt}\n",
    "\\end{equation}\n",
    "*Equation 5. The characteristic time for a change in diffusivity.*\n",
    "\n",
    "By simulating cooling of the minerals by iterating over the values of the recorded temperature history from depth to the surface, thermochronometer ages can be predicted for various systems.\n",
    "\n",
    "**Notice**: Closely follow the instructions! For example, you should be sure to use **exactly** the same variable names mentioned in the instructions because your answers will be automatically graded, and the tests that grade your answers rely on following the same formatting or variable naming as in the instructions.\n",
    "\n",
    "**Your score on this problem will be based on following criteria**:\n",
    "\n",
    "- Modifying the provided Python function to format and add text to the plots\n",
    "- Plotting your results and adding figure captions\n",
    "- Including comments that explain what most lines in the code do\n",
    "- Uploading your notebook to your GitHub repository for this week's exercise"
   ]
  },
  {
   "cell_type": "markdown",
   "metadata": {
    "deletable": false,
    "editable": false,
    "nbgrader": {
     "cell_type": "markdown",
     "checksum": "a97289d6c1b6eb29a4900f3a87db74c6",
     "grade": false,
     "grade_id": "cell-f494c727eefe3be3",
     "locked": true,
     "schema_version": 3,
     "solution": false
    }
   },
   "source": [
    "## Part 1: Dodson's method (*0 points*)\n",
    "\n",
    "As mentioned above and in the lecture materials for this week, Dodson's method can be used to calculate closure temperatures for minerals experiencing temperature-dependent diffusion of a daughter isotope. Once a closure temperature is calculated, the model we are using for recording the temperature of a rock particle as it cools can be used to determine the time at which the rock particle cools below the closure temperature (i.e., the thermochronometer age). We'll do just that in this problem, but first we need to define a function for calculating a closure temperature and thermochronometer age using Dodson's method.\n",
    "\n",
    "- Run the Python cell below, which defines a function to solve Dodson's equation (i.e., Equations 4 and 5 below)."
   ]
  },
  {
   "cell_type": "code",
   "execution_count": null,
   "metadata": {
    "deletable": false,
    "editable": false,
    "nbgrader": {
     "cell_type": "code",
     "checksum": "d5b024bda07de79a44f28b66e064c409",
     "grade": false,
     "grade_id": "cell-0d5eb245d2036d25",
     "locked": true,
     "schema_version": 3,
     "solution": false
    }
   },
   "outputs": [],
   "source": [
    "def dodson(tau, temp_hist, temp_hist_prev, time, time_prev, age, tc_prev, ea, dtdt, a, d0a2, r):\n",
    "    \"\"\"Calculate thermochronometer age and closure temperature using Dodson's method.\n",
    "    \n",
    "    Keyword arguments:\n",
    "    tau -- diffusivity characteristic time (units: Ma)\n",
    "    temp_hist -- current temperature in history (units: deg. C)\n",
    "    temp_hist_prev -- temperature from last iteration (units: deg. C)\n",
    "    time -- time until end of simulation (units: Ma)\n",
    "    time_prev -- previous time until end of simulation (units: Ma)\n",
    "    age -- previous calculated thermochronometer age (units: Ma)\n",
    "    tc_prev -- previous calculated closure temperature (units: deg. C)\n",
    "    ea -- activation energy (units: J / mol)\n",
    "    dtdt -- cooling rate (units: deg. C / Ma)\n",
    "    a -- geometric factor (25 for a sphere, 8.7 for a planar sheet)\n",
    "    d0a2 -- diffusivity at infinite temperature over domain squared (units: 1 / s)\n",
    "    r -- universal gas constant (units: J / (mol K))\n",
    "    \"\"\"\n",
    "    # Calculate diffusivity characteristic time\n",
    "    tau = (r * (temp_hist + 273.15)**2.0) / (ea * dtdt)\n",
    "    # Calculate new closure temperature\n",
    "    tc = ea / (r * np.log(a * tau * d0a2)) - 273.15\n",
    "    # Calculate new cooling age if temperature is above tc\n",
    "    if temp_hist > tc:\n",
    "        ratio = (tc_prev - temp_hist_prev)/(tc_prev - temp_hist_prev + temp_hist - tc)\n",
    "        age = time + (time_prev - time) * ratio\n",
    "    tc_prev = tc\n",
    "    return age, tc, tc_prev"
   ]
  },
  {
   "cell_type": "markdown",
   "metadata": {
    "deletable": false,
    "editable": false,
    "nbgrader": {
     "cell_type": "markdown",
     "checksum": "87d3ea5d530052244a091952712463fe",
     "grade": false,
     "grade_id": "cell-fb3f704cd77b9431",
     "locked": true,
     "schema_version": 3,
     "solution": false
    }
   },
   "source": [
    "## Part 2: Calculating a thermochronometer age (*1.5 points*)\n",
    "\n",
    "We can start exploring Dodson's method by calculating an apatite (U-Th)/He age with the default parameters.\n",
    "\n",
    "- Look carefully through the Python cell containing the `age_predict` function to find where the closure temperature is calculated.\n",
    "- Edit that cell to display the predicted apatite (U-Th)/He age and predicted closure temperature on the plot using the `ax.text()` function.\n",
    "    - I suggest that you use the text plotting function near the bottom of the `age_predict` function where the predicted apatite (U-Th)/He age is printed to the screen (if requested).\n",
    "- Re-run the Python cell containing the `age_predict` function to store the updated version in memory.\n",
    "- Call the age_predict function with calculation of the apatite (U-Th)/He age enabled. Look at the definition of `age_predict` to see how to set the flags (`True`/`False` parameters) that allow you to enable the calculation of different thermochronometers.\n",
    "    - As in Problem 1, remember to assign the output to the variable `age_output`.\n",
    "- Add a figure caption for the plot in the cell beneath it describing it as if it were in a scientific journal article."
   ]
  },
  {
   "cell_type": "code",
   "execution_count": null,
   "metadata": {
    "deletable": false,
    "nbgrader": {
     "cell_type": "code",
     "checksum": "bd466b26755b2940969a22b9b32948a5",
     "grade": false,
     "grade_id": "problem_2_ag_p2_plot8",
     "locked": false,
     "schema_version": 3,
     "solution": true,
     "task": false
    }
   },
   "outputs": [],
   "source": [
    "# Call the age_predict function below\n",
    "age_output = None\n",
    "\n",
    "# YOUR CODE HERE\n",
    "raise NotImplementedError()"
   ]
  },
  {
   "cell_type": "markdown",
   "metadata": {
    "deletable": false,
    "nbgrader": {
     "cell_type": "markdown",
     "checksum": "677fbd64f618d821786952ee72e36242",
     "grade": true,
     "grade_id": "problem_2_mg_p2_plot8_caption",
     "locked": false,
     "points": 1,
     "schema_version": 3,
     "solution": true
    }
   },
   "source": [
    "YOUR ANSWER HERE"
   ]
  },
  {
   "cell_type": "code",
   "execution_count": null,
   "metadata": {
    "deletable": false,
    "editable": false,
    "nbgrader": {
     "cell_type": "code",
     "checksum": "898ae309f611fa35940fe15665349d16",
     "grade": true,
     "grade_id": "problem_2_ag_p2_plot8_test1",
     "locked": true,
     "points": 0.5,
     "schema_version": 3,
     "solution": false,
     "task": false
    }
   },
   "outputs": [],
   "source": [
    "# This test should work\n",
    "print('The apatite (U-Th)/He age should be 9.07 Ma. My age is {0:.2f} Ma.'.format(age_output[3]))\n"
   ]
  },
  {
   "cell_type": "markdown",
   "metadata": {
    "deletable": false,
    "editable": false,
    "nbgrader": {
     "cell_type": "markdown",
     "checksum": "15f45eab0b6b1de75b9942def461b1fa",
     "grade": false,
     "grade_id": "cell-fd49e21e06a996ca",
     "locked": true,
     "schema_version": 3,
     "solution": false
    }
   },
   "source": [
    "## Part 3: Predicting other thermochronometer ages (*1.5 points*)\n",
    "\n",
    "Now we can enable prediction of the zircon (U-Th)/He and muscovite $^{40}$Ar/$^{39}$Ar thermochronometer ages as well.\n",
    "\n",
    "- Return to the Python cell containing the `age_predict` function to where the closure temperatures are calculated.\n",
    "- Edit that cell to display the predicted zircon (U-Th)/He and muscovite $^{40}$Ar/$^{39}$Ar ages and predicted closure temperatures on the plot using the `ax.text()` function.\n",
    "    - Again, I suggest that you use the text plotting function near the bottom of the `age_predict` function where the predicted ages are printed to the screen (if requested).\n",
    "- Re-run the Python cell containing the `age_predict` function to store the updated version in memory.\n",
    "- Call the age_predict function with calculation of the all three thermochronometer ages enabled. As above, look at the definition of `age_predict` to see how to set the flags (`True`/`False` parameters) that allow you to enable the calculation of different thermochronometers.\n",
    "    - As in Problem 1, remember to assign the output to the variable `age_output`.\n",
    "- Add a figure caption for the plot in the cell beneath it describing it as if it were in a scientific journal article."
   ]
  },
  {
   "cell_type": "code",
   "execution_count": null,
   "metadata": {
    "deletable": false,
    "nbgrader": {
     "cell_type": "code",
     "checksum": "71f3dee697ee498819a886eddb61203b",
     "grade": false,
     "grade_id": "problem_2_ag_p3_plot9",
     "locked": false,
     "schema_version": 3,
     "solution": true,
     "task": false
    }
   },
   "outputs": [],
   "source": [
    "# Call the age_predict function below\n",
    "age_output = None\n",
    "\n",
    "# YOUR CODE HERE\n",
    "raise NotImplementedError()"
   ]
  },
  {
   "cell_type": "markdown",
   "metadata": {
    "deletable": false,
    "nbgrader": {
     "cell_type": "markdown",
     "checksum": "d6b301dbf9db7a64d3e631535f662bc3",
     "grade": true,
     "grade_id": "problem_2_mg_p3_plot9_caption",
     "locked": false,
     "points": 1,
     "schema_version": 3,
     "solution": true
    }
   },
   "source": [
    "YOUR ANSWER HERE"
   ]
  },
  {
   "cell_type": "code",
   "execution_count": null,
   "metadata": {
    "deletable": false,
    "editable": false,
    "nbgrader": {
     "cell_type": "code",
     "checksum": "317755a65ff6a63523beb661b4d87eba",
     "grade": true,
     "grade_id": "problem_2_ag_p3_plot9_test1",
     "locked": true,
     "points": 0.5,
     "schema_version": 3,
     "solution": false,
     "task": false
    }
   },
   "outputs": [],
   "source": [
    "# This test should work\n",
    "print('The zircon (U-Th)/He age should be 26.84 Ma. My age is {0:.2f} Ma.'.format(age_output[4]))\n"
   ]
  },
  {
   "cell_type": "markdown",
   "metadata": {
    "deletable": false,
    "editable": false,
    "nbgrader": {
     "cell_type": "markdown",
     "checksum": "acee98e4b67144dfd3bb5803f25852e9",
     "grade": false,
     "grade_id": "cell-9fafa774e947d448",
     "locked": true,
     "schema_version": 3,
     "solution": false
    }
   },
   "source": [
    "## Part 4: Visualizing the thermal history (*2 points*)\n",
    "\n",
    "To understand more about how the thermochronometer ages are predicted, it can he helpful to look at the temperature-depth history of the parcel of rock as it travels from depth to the surface.\n",
    "\n",
    "- Return to the Python cell containing the `age_predict` function.\n",
    "- Edit that cell to replace the placeholder text in the if statement in the code that reads\n",
    "  ```\n",
    "  if plot_temp_z_hist:\n",
    "      # Delete \"pass\" below and add your commands to plot the exhumation history\n",
    "      pass\n",
    "  ```\n",
    "  with the commands to plot the thermal history in the `ex_hist_df` DataFrame.\n",
    "    - Plot the values from the `ex_hist_df` DataFrame as black circles.\n",
    "    - Do not remove the `if plot_temp_z_hist:` statement\n",
    "- Re-run the Python cell containing the `age_predict` function to store the updated version in memory.\n",
    "- Call the `age_predict` function with the flag (`True`/`False` parameter) enabled for plotting the temperature-depth history of the rock parcel as it travels from depth to the surface in the model. Again, look at the definition of `age_predict` to see how to set this flag.\n",
    "    - This should now add a set of symbols to the plot that display how the temperature and depth of the rock parcel changes with time.\n",
    "    - Keep the three flags for thermochronometer age prediction set to `True`.\n",
    "    - Also, remember to assign the output to the variable `age_output`.\n",
    "- Add a figure caption for the plot in the cell beneath it describing it as if it were in a scientific journal article."
   ]
  },
  {
   "cell_type": "code",
   "execution_count": null,
   "metadata": {
    "deletable": false,
    "nbgrader": {
     "cell_type": "code",
     "checksum": "c38977cfae9c4cc1181d2882dc0e9749",
     "grade": false,
     "grade_id": "problem_2_ag_p4_plot10",
     "locked": false,
     "schema_version": 3,
     "solution": true,
     "task": false
    }
   },
   "outputs": [],
   "source": [
    "# Call the age_predict function below\n",
    "age_output = None\n",
    "\n",
    "# YOUR CODE HERE\n",
    "raise NotImplementedError()"
   ]
  },
  {
   "cell_type": "markdown",
   "metadata": {
    "deletable": false,
    "nbgrader": {
     "cell_type": "markdown",
     "checksum": "cb13746aa607aad44bda5f9e9302d233",
     "grade": true,
     "grade_id": "problem_2_mg_p4_plot10_caption",
     "locked": false,
     "points": 1.5,
     "schema_version": 3,
     "solution": true
    }
   },
   "source": [
    "YOUR ANSWER HERE"
   ]
  },
  {
   "cell_type": "code",
   "execution_count": null,
   "metadata": {
    "deletable": false,
    "editable": false,
    "nbgrader": {
     "cell_type": "code",
     "checksum": "69ddd2fe4bdc08bbd9528481b4182eec",
     "grade": true,
     "grade_id": "problem_2_ag_p4_plot10_test1",
     "locked": true,
     "points": 0.5,
     "schema_version": 3,
     "solution": false,
     "task": false
    }
   },
   "outputs": [],
   "source": [
    "# This test should work\n",
    "print('The second depth in the thermal history should be -24.94 km. My depth is {0:.2f} km.'.format(age_output[1].values[1][0]))\n"
   ]
  },
  {
   "cell_type": "markdown",
   "metadata": {
    "deletable": false,
    "editable": false,
    "nbgrader": {
     "cell_type": "markdown",
     "checksum": "83496e1dbaa878cb0fb43470d9f917a6",
     "grade": false,
     "grade_id": "cell-6cd80baece92799c",
     "locked": true,
     "schema_version": 3,
     "solution": false
    }
   },
   "source": [
    "## Part 5: Faster advection (*1 point*)\n",
    "\n",
    "Now we can produce a plot like that above with a faster advection velocity.\n",
    "\n",
    "- Call the `age_predict` function with the same parameter flags enabled as in the previous part of this problem, but also with an advection velocity of 1.0 km/Ma.\n",
    "    - Have a look at Problem 1, Part 3 for how to change the advection velocity.\n",
    "    - Again, remember to assign the output to the variable `age_output`.\n",
    "- Add a figure caption for the plot in the cell beneath it describing it as if it were in a scientific journal article."
   ]
  },
  {
   "cell_type": "code",
   "execution_count": null,
   "metadata": {
    "deletable": false,
    "nbgrader": {
     "cell_type": "code",
     "checksum": "82c1be37086749604a216f7a43228101",
     "grade": false,
     "grade_id": "problem_2_ag_p5_plot11",
     "locked": false,
     "schema_version": 3,
     "solution": true,
     "task": false
    }
   },
   "outputs": [],
   "source": [
    "# Call the age_predict function below\n",
    "age_output = None\n",
    "\n",
    "# YOUR CODE HERE\n",
    "raise NotImplementedError()"
   ]
  },
  {
   "cell_type": "markdown",
   "metadata": {
    "deletable": false,
    "nbgrader": {
     "cell_type": "markdown",
     "checksum": "05c79c9286ff4a825805f9640b105ebd",
     "grade": true,
     "grade_id": "problem_2_mg_p5_plot11_caption",
     "locked": false,
     "points": 0.5,
     "schema_version": 3,
     "solution": true
    }
   },
   "source": [
    "YOUR ANSWER HERE"
   ]
  },
  {
   "cell_type": "code",
   "execution_count": null,
   "metadata": {
    "deletable": false,
    "editable": false,
    "nbgrader": {
     "cell_type": "code",
     "checksum": "bc7c24abaef62af7a3d2d9110bb0207e",
     "grade": true,
     "grade_id": "problem_2_ag_p5_plot11_test1",
     "locked": true,
     "points": 0.5,
     "schema_version": 3,
     "solution": false,
     "task": false
    }
   },
   "outputs": [],
   "source": [
    "# This test should work\n",
    "print('The second depth in the thermal history should be -49.88 km. My depth is {0:.2f} km.'.format(age_output[1].values[1][0]))\n"
   ]
  },
  {
   "cell_type": "markdown",
   "metadata": {
    "deletable": false,
    "editable": false,
    "nbgrader": {
     "cell_type": "markdown",
     "checksum": "32746ba42793ebf9ffc5c24a4385be15",
     "grade": false,
     "grade_id": "cell-5b23830fbcaccf0c",
     "locked": true,
     "schema_version": 3,
     "solution": false
    }
   },
   "source": [
    "## Part 6: Questions for this problem (*2.5 points*)\n",
    "\n",
    "1. What is the predicted apatite (U-Th)/He age in Part 2? What does that age mean?\n",
    "2. What is the closure temperature for Part 2?\n",
    "3. Do all of the predicted thermochronometer ages make sense in Part 3?\n",
    "4. In Part 4, do you see any problems with the predicted ages considering the predicted thermochronometer ages and closure temperatures?\n",
    "5. Do the predicted thermochronometer ages in Part 5 make more sense? Why or why not (think about the difference between Parts 4 and 5)?"
   ]
  },
  {
   "cell_type": "markdown",
   "metadata": {
    "deletable": false,
    "nbgrader": {
     "cell_type": "markdown",
     "checksum": "6b1c41c5c90936496b29f3839dc01560",
     "grade": true,
     "grade_id": "problem_2_mg_p6_questions",
     "locked": false,
     "points": 2.5,
     "schema_version": 3,
     "solution": true
    }
   },
   "source": [
    "YOUR ANSWER HERE"
   ]
  },
  {
   "cell_type": "markdown",
   "metadata": {
    "deletable": false,
    "editable": false,
    "nbgrader": {
     "cell_type": "markdown",
     "checksum": "ddb8abcd97d654ced277b242052fd459",
     "grade": false,
     "grade_id": "cell-7b5e5083de47961c",
     "locked": true,
     "schema_version": 3,
     "solution": false
    }
   },
   "source": [
    "## References\n",
    "\n",
    "Carslaw, H. S., & Jaeger, J. C. (1959). Conduction of heat in solids. Oxford: Clarendon Press.\n",
    "\n",
    "Dodson, M. H. (1973). Closure temperature in cooling geochronological and petrological systems. Contributions to Mineralogy and Petrology, 40(3), 259–274."
   ]
  }
 ],
 "metadata": {
  "kernelspec": {
   "display_name": "Python 3",
   "language": "python",
   "name": "python3"
  },
  "language_info": {
   "codemirror_mode": {
    "name": "ipython",
    "version": 3
   },
   "file_extension": ".py",
   "mimetype": "text/x-python",
   "name": "python",
   "nbconvert_exporter": "python",
   "pygments_lexer": "ipython3",
   "version": "3.7.4"
  }
 },
 "nbformat": 4,
 "nbformat_minor": 2
}
